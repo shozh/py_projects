{
 "cells": [
  {
   "cell_type": "code",
   "execution_count": null,
   "metadata": {},
   "outputs": [],
   "source": [
    "def bubble_sort(a):\n",
    "\tn = len(a)\n",
    "\tfor i in range(n - 1):\n",
    "\t\tflag = True\n",
    "\t\tfor j in range(n - i - 1):\n",
    "\t\t\tif a[j] > a[j+1]:\n",
    "\t\t\t\ta[j+1], a[j] = a[j], a[j+1]\n",
    "\t\t\t\tflag = False\n",
    "\t\tif flag:\n",
    "\t\t\tbreak"
   ]
  },
  {
   "cell_type": "code",
   "execution_count": null,
   "metadata": {},
   "outputs": [],
   "source": [
    "def selection_sort(a, n):\n",
    "\tfor i in range(n - 1):\n",
    "\t\tmax_i = 0\n",
    "\t\tfor j in range(1, n - i):\n",
    "\t\t\tif a[j] > a[max_i]:\n",
    "\t\t\t\tj = max_i\n",
    "\t\ta[max_i], a[n - i] = a[n - i], a[max_i]"
   ]
  },
  {
   "cell_type": "code",
   "execution_count": null,
   "metadata": {},
   "outputs": [],
   "source": [
    "def quick_sort(a):\n",
    "\tif len(a) < 2:\n",
    "\t\treturn a\n",
    "\tl_a = []\n",
    "\tr_a = []\n",
    "\tfor i in range(1, len(a)):\n",
    "\t\tif a[i] >= a[0]:\n",
    "\t\t\tr_a.append(a[i])\n",
    "\t\telse: \n",
    "\t\t\tl_a.append(a[i])\n",
    "\treturn sort(l_a) + [a[0]] + sort(r_a)"
   ]
  },
  {
   "cell_type": "code",
   "execution_count": null,
   "metadata": {},
   "outputs": [],
   "source": [
    "def insert_sort(a):\n",
    "\tfor i in range(1, len(a)):\n",
    "\t\tfor j in range(i - 1, -1, -1):\n",
    "\t\t\tif a[i] < a[j]:\n",
    "\t\t\t\ta[i], a[j] = a[j], a[i]"
   ]
  },
  {
   "cell_type": "code",
   "execution_count": null,
   "metadata": {},
   "outputs": [],
   "source": [
    "def bubble_sort(a):\n",
    "\tn = len(a)\n",
    "\tfor i in range(n - 1):\n",
    "\t\tminimal = a[-1]\n",
    "\t\tfor j in range(i, n - 1):\n",
    "\t\t\tif a[j] < minimal:\n",
    "\t\t\t\tminimal = a[j]\n",
    "\t\t\t\tindex_minimal = j\n",
    "\t\tif minimal == a[-1]:\n",
    "\t\t\tindex_minimal = -1\n",
    "\t\tdel a[index_minimal]\n",
    "\t\ta.insert(i, minimal)\n",
    "\treturn a"
   ]
  },
  {
   "cell_type": "code",
   "execution_count": null,
   "metadata": {},
   "outputs": [],
   "source": [
    "def selection_sort(a: list) -> list:\n",
    "\tsorted_a = []\n",
    "\tfor i in range(len(a)):\n",
    "\t\tsmallest_index = find_smallest_index(a)\n",
    "\t\tsorted_a.append(a.pop(smallest_index))\n",
    "\treturn sorted_a"
   ]
  }
 ],
 "metadata": {
  "kernelspec": {
   "display_name": "Python 3.10.2 64-bit",
   "language": "python",
   "name": "python3"
  },
  "language_info": {
   "name": "python",
   "version": "3.10.2"
  },
  "orig_nbformat": 4,
  "vscode": {
   "interpreter": {
    "hash": "d7ff4235440fa93deb39ece4e69c3263a90a99b984e69f9a21c58993b34d78f6"
   }
  }
 },
 "nbformat": 4,
 "nbformat_minor": 2
}
